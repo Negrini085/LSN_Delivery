{
 "cells": [
  {
   "attachments": {},
   "cell_type": "markdown",
   "metadata": {},
   "source": [
    "<center>\n",
    "\n",
    "# Esercizio 1\n",
    "\n",
    "</center>"
   ]
  },
  {
   "cell_type": "code",
   "execution_count": 235,
   "metadata": {},
   "outputs": [],
   "source": [
    "import numpy as np\n",
    "import matplotlib.pyplot as plt"
   ]
  },
  {
   "cell_type": "code",
   "execution_count": 236,
   "metadata": {},
   "outputs": [],
   "source": [
    "# compose the NN model\n",
    "import tensorflow as tf\n",
    "from tensorflow import keras\n",
    "\n",
    "from tensorflow.keras.models import Sequential\n",
    "from tensorflow.keras.layers import Dense, Activation\n",
    "from tensorflow.keras import backend as K\n",
    "from tensorflow.keras.utils import get_custom_objects"
   ]
  },
  {
   "cell_type": "code",
   "execution_count": 237,
   "metadata": {},
   "outputs": [],
   "source": [
    "# target parameters of f(x) = m*x + b\n",
    "m = 2 # slope\n",
    "b = 1 # intersect"
   ]
  },
  {
   "cell_type": "code",
   "execution_count": 238,
   "metadata": {},
   "outputs": [],
   "source": [
    "np.random.seed(0)   #impongo seed generatore numeri casuali\n",
    "\n",
    "#Determino le x di allenamento e validazione\n",
    "x_train = np.random.uniform(-1, 1, 500) #Ascisse Train\n",
    "x_valid = np.random.uniform(-1, 1, 50)  #Ascisse Test\n",
    "x_valid.sort()  #Ordino in modo crescente ascisse test\n",
    "\n",
    "y_target = m * x_valid + b  #Distribuzione target\n",
    "\n",
    "sigma = 2 #Stddev per rumore gaussiano\n",
    "y_train = np.random.normal(m * x_train + b, sigma)  #Valori con rumore per allenamento\n",
    "y_valid = np.random.normal(m * x_valid + b, sigma)  #Valori con rumore per testrint(x_valid)"
   ]
  },
  {
   "cell_type": "code",
   "execution_count": 239,
   "metadata": {},
   "outputs": [
    {
     "name": "stdout",
     "output_type": "stream",
     "text": [
      "Model: \"sequential_24\"\n",
      "_________________________________________________________________\n",
      " Layer (type)                Output Shape              Param #   \n",
      "=================================================================\n",
      " dense_24 (Dense)            (None, 1)                 2         \n",
      "                                                                 \n",
      "=================================================================\n",
      "Total params: 2 (8.00 Byte)\n",
      "Trainable params: 2 (8.00 Byte)\n",
      "Non-trainable params: 0 (0.00 Byte)\n",
      "_________________________________________________________________\n"
     ]
    }
   ],
   "source": [
    "#\"Creo\" la rete neurale\n",
    "model = tf.keras.Sequential()\n",
    "model.add(Dense(1, input_shape=(1,)))\n",
    "model.compile(optimizer='sgd', loss='mse', metrics=['mse'])\n",
    "\n",
    "#Riassunto del modello\n",
    "model.summary()"
   ]
  },
  {
   "cell_type": "code",
   "execution_count": 240,
   "metadata": {},
   "outputs": [
    {
     "name": "stdout",
     "output_type": "stream",
     "text": [
      "Epoch 1/30\n",
      "16/16 [==============================] - 0s 10ms/step - loss: 5.0803 - mse: 5.0803 - val_loss: 6.0989 - val_mse: 6.0989\n",
      "Epoch 2/30\n",
      "16/16 [==============================] - 0s 3ms/step - loss: 4.7151 - mse: 4.7151 - val_loss: 5.6025 - val_mse: 5.6025\n",
      "Epoch 3/30\n",
      "16/16 [==============================] - 0s 4ms/step - loss: 4.4946 - mse: 4.4946 - val_loss: 5.2635 - val_mse: 5.2635\n",
      "Epoch 4/30\n",
      "16/16 [==============================] - 0s 3ms/step - loss: 4.3498 - mse: 4.3498 - val_loss: 5.0201 - val_mse: 5.0201\n",
      "Epoch 5/30\n",
      "16/16 [==============================] - 0s 3ms/step - loss: 4.2432 - mse: 4.2432 - val_loss: 4.8633 - val_mse: 4.8633\n",
      "Epoch 6/30\n",
      "16/16 [==============================] - 0s 4ms/step - loss: 4.1721 - mse: 4.1721 - val_loss: 4.7427 - val_mse: 4.7427\n",
      "Epoch 7/30\n",
      "16/16 [==============================] - 0s 3ms/step - loss: 4.1177 - mse: 4.1177 - val_loss: 4.6664 - val_mse: 4.6664\n",
      "Epoch 8/30\n",
      "16/16 [==============================] - 0s 3ms/step - loss: 4.0763 - mse: 4.0763 - val_loss: 4.6253 - val_mse: 4.6253\n",
      "Epoch 9/30\n",
      "16/16 [==============================] - 0s 3ms/step - loss: 4.0436 - mse: 4.0436 - val_loss: 4.5882 - val_mse: 4.5882\n",
      "Epoch 10/30\n",
      "16/16 [==============================] - 0s 4ms/step - loss: 4.0185 - mse: 4.0185 - val_loss: 4.5513 - val_mse: 4.5513\n",
      "Epoch 11/30\n",
      "16/16 [==============================] - 0s 3ms/step - loss: 3.9965 - mse: 3.9965 - val_loss: 4.5238 - val_mse: 4.5238\n",
      "Epoch 12/30\n",
      "16/16 [==============================] - 0s 3ms/step - loss: 3.9798 - mse: 3.9798 - val_loss: 4.5055 - val_mse: 4.5055\n",
      "Epoch 13/30\n",
      "16/16 [==============================] - 0s 3ms/step - loss: 3.9675 - mse: 3.9675 - val_loss: 4.4878 - val_mse: 4.4878\n",
      "Epoch 14/30\n",
      "16/16 [==============================] - 0s 4ms/step - loss: 3.9563 - mse: 3.9563 - val_loss: 4.4815 - val_mse: 4.4815\n",
      "Epoch 15/30\n",
      "16/16 [==============================] - 0s 4ms/step - loss: 3.9484 - mse: 3.9484 - val_loss: 4.4650 - val_mse: 4.4650\n",
      "Epoch 16/30\n",
      "16/16 [==============================] - 0s 5ms/step - loss: 3.9418 - mse: 3.9418 - val_loss: 4.4706 - val_mse: 4.4706\n",
      "Epoch 17/30\n",
      "16/16 [==============================] - 0s 4ms/step - loss: 3.9376 - mse: 3.9376 - val_loss: 4.4605 - val_mse: 4.4605\n",
      "Epoch 18/30\n",
      "16/16 [==============================] - 0s 3ms/step - loss: 3.9321 - mse: 3.9321 - val_loss: 4.4584 - val_mse: 4.4584\n",
      "Epoch 19/30\n",
      "16/16 [==============================] - 0s 3ms/step - loss: 3.9303 - mse: 3.9303 - val_loss: 4.4576 - val_mse: 4.4576\n",
      "Epoch 20/30\n",
      "16/16 [==============================] - 0s 4ms/step - loss: 3.9248 - mse: 3.9248 - val_loss: 4.4604 - val_mse: 4.4604\n",
      "Epoch 21/30\n",
      "16/16 [==============================] - 0s 3ms/step - loss: 3.9240 - mse: 3.9240 - val_loss: 4.4535 - val_mse: 4.4535\n",
      "Epoch 22/30\n",
      "16/16 [==============================] - 0s 3ms/step - loss: 3.9215 - mse: 3.9215 - val_loss: 4.4579 - val_mse: 4.4579\n",
      "Epoch 23/30\n",
      "16/16 [==============================] - 0s 4ms/step - loss: 3.9198 - mse: 3.9198 - val_loss: 4.4650 - val_mse: 4.4650\n",
      "Epoch 24/30\n",
      "16/16 [==============================] - 0s 3ms/step - loss: 3.9204 - mse: 3.9204 - val_loss: 4.4470 - val_mse: 4.4470\n",
      "Epoch 25/30\n",
      "16/16 [==============================] - 0s 3ms/step - loss: 3.9182 - mse: 3.9182 - val_loss: 4.4663 - val_mse: 4.4663\n",
      "Epoch 26/30\n",
      "16/16 [==============================] - 0s 4ms/step - loss: 3.9162 - mse: 3.9162 - val_loss: 4.4503 - val_mse: 4.4503\n",
      "Epoch 27/30\n",
      "16/16 [==============================] - 0s 4ms/step - loss: 3.9171 - mse: 3.9171 - val_loss: 4.4645 - val_mse: 4.4645\n",
      "Epoch 28/30\n",
      "16/16 [==============================] - 0s 4ms/step - loss: 3.9156 - mse: 3.9156 - val_loss: 4.4557 - val_mse: 4.4557\n",
      "Epoch 29/30\n",
      "16/16 [==============================] - 0s 5ms/step - loss: 3.9156 - mse: 3.9156 - val_loss: 4.4610 - val_mse: 4.4610\n",
      "Epoch 30/30\n",
      "16/16 [==============================] - 0s 4ms/step - loss: 3.9152 - mse: 3.9152 - val_loss: 4.4513 - val_mse: 4.4513\n",
      "2/2 [==============================] - 0s 5ms/step - loss: 4.4513 - mse: 4.4513\n",
      "2/2 [==============================] - 0s 6ms/step - loss: 0.0570 - mse: 0.0570\n"
     ]
    }
   ],
   "source": [
    "#Alleno il modello\n",
    "history = model.fit(x=x_train, y=y_train, \n",
    "          batch_size=32, epochs=30,\n",
    "          shuffle=True, # a good idea is to shuffle input before at each epoch\n",
    "          validation_data=(x_valid, y_valid))\n",
    "\n",
    "model.get_weights()\n",
    "\n",
    "score = model.evaluate(x_valid, y_valid, batch_size=32, verbose=1)\n",
    "score = model.evaluate(x_valid, y_target, batch_size=32, verbose=1)"
   ]
  },
  {
   "cell_type": "code",
   "execution_count": 241,
   "metadata": {},
   "outputs": [
    {
     "name": "stdout",
     "output_type": "stream",
     "text": [
      "4/4 [==============================] - 0s 2ms/step\n"
     ]
    }
   ],
   "source": [
    "x_pred = np.random.uniform(-1, 1, 100)\n",
    "appo = model.predict(x_pred)\n",
    "y_pred = np.array([i for i in appo])\n"
   ]
  },
  {
   "cell_type": "code",
   "execution_count": 242,
   "metadata": {},
   "outputs": [],
   "source": [
    "#Stampo Loss Function\n",
    "appo = history.history['loss']\n",
    "pippo = history.history['val_loss']\n",
    "\n",
    "file = open('loss.dat', 'w')\n",
    "\n",
    "for i in range(0, len(appo)):\n",
    "    file.write(str(appo[i]) + \"  \")\n",
    "\n",
    "file.write('\\n')\n",
    "\n",
    "for i in range(0, len(pippo)):\n",
    "    file.write(str(pippo[i]) + \"  \")\n",
    "\n",
    "file.write('\\n')\n",
    "file.close()\n",
    "\n",
    "\n",
    "#Stampo predizioni modello\n",
    "file = open('pred.dat', 'w')\n",
    "\n",
    "file.write('\\n')\n",
    "\n",
    "for i in range(0, len(x_pred)):\n",
    "    file.write(str(x_pred[i]) + \"  \")\n",
    "\n",
    "file.write('\\n')\n",
    "\n",
    "for i in range(0, len(y_pred)):\n",
    "    appo = str(y_pred[i])\n",
    "    appo = appo.strip('[]')\n",
    "    file.write(str(appo) + \"    \")\n",
    "\n",
    "file.write('\\n')\n",
    "file.close()\n"
   ]
  },
  {
   "cell_type": "code",
   "execution_count": 243,
   "metadata": {},
   "outputs": [
    {
     "data": {
      "text/plain": [
       "[<matplotlib.lines.Line2D at 0x7fd41d8b8bb0>]"
      ]
     },
     "execution_count": 243,
     "metadata": {},
     "output_type": "execute_result"
    },
    {
     "data": {
      "image/png": "[encoded data removed]",
      "text/plain": [
       "<Figure size 640x480 with 1 Axes>"
      ]
     },
     "metadata": {},
     "output_type": "display_data"
    }
   ],
   "source": [
    "val = np.loadtxt(\"pred.dat\")\n",
    "plt.scatter(val[0, :], val[1, :], color = 'red')\n",
    "plt.plot(x_valid, y_target)"
   ]
  }
 ],
 "metadata": {
  "kernelspec": {
   "display_name": "Python 3",
   "language": "python",
   "name": "python3"
  },
  "language_info": {
   "codemirror_mode": {
    "name": "ipython",
    "version": 3
   },
   "file_extension": ".py",
   "mimetype": "text/x-python",
   "name": "python",
   "nbconvert_exporter": "python",
   "pygments_lexer": "ipython3",
   "version": "3.10.6"
  },
  "orig_nbformat": 4
 },
 "nbformat": 4,
 "nbformat_minor": 2
}
